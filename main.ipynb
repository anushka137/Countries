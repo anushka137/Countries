{
 "cells": [
  {
   "cell_type": "code",
   "execution_count": 1,
   "metadata": {},
   "outputs": [],
   "source": [
    "# project: p13\n",
    "# submitter: achandrashe4\n",
    "# partner: none"
   ]
  },
  {
   "cell_type": "code",
   "execution_count": 2,
   "metadata": {},
   "outputs": [],
   "source": [
    "import os, requests, json\n",
    "import pandas as pd\n",
    "from pandas import DataFrame, Series\n",
    "from bs4 import BeautifulSoup\n",
    "import sqlite3\n",
    "import numpy as np\n",
    "import matplotlib.pyplot as plt"
   ]
  },
  {
   "cell_type": "code",
   "execution_count": 3,
   "metadata": {},
   "outputs": [],
   "source": [
    "def download(filename, url):\n",
    "    # We do not download again if the file already exists\n",
    "    if os.path.exists(filename):\n",
    "        return (str(filename) + \" already exists!\")\n",
    "    r = requests.get(url)\n",
    "    r.raise_for_status()\n",
    "    f = open(filename, \"w\", encoding = \"utf-8\")\n",
    "    f.write(r.text)\n",
    "    f.close()\n",
    "\n",
    "    return (str(filename) + \" created!\")"
   ]
  },
  {
   "cell_type": "code",
   "execution_count": 4,
   "metadata": {},
   "outputs": [],
   "source": [
    "download(\"countries.json\", \"https://raw.githubusercontent.com/msyamkumar/cs220-f20-projects/master/p13/countries.json\")\n",
    "countries = pd.read_json('countries.json')"
   ]
  },
  {
   "cell_type": "code",
   "execution_count": 5,
   "metadata": {},
   "outputs": [],
   "source": [
    "conn = sqlite3.connect('countries.db')\n",
    "countries.to_sql(\"countries\", conn, if_exists=\"replace\", index=False)\n",
    "# remember to do conn.close() at the end of your notebook"
   ]
  },
  {
   "cell_type": "code",
   "execution_count": 6,
   "metadata": {},
   "outputs": [
    {
     "data": {
      "text/html": [
       "<div>\n",
       "<style scoped>\n",
       "    .dataframe tbody tr th:only-of-type {\n",
       "        vertical-align: middle;\n",
       "    }\n",
       "\n",
       "    .dataframe tbody tr th {\n",
       "        vertical-align: top;\n",
       "    }\n",
       "\n",
       "    .dataframe thead th {\n",
       "        text-align: right;\n",
       "    }\n",
       "</style>\n",
       "<table border=\"1\" class=\"dataframe\">\n",
       "  <thead>\n",
       "    <tr style=\"text-align: right;\">\n",
       "      <th></th>\n",
       "      <th>region</th>\n",
       "      <th>number of countries</th>\n",
       "    </tr>\n",
       "  </thead>\n",
       "  <tbody>\n",
       "    <tr>\n",
       "      <th>0</th>\n",
       "      <td>SUB-SAHARAN AFRICA</td>\n",
       "      <td>42</td>\n",
       "    </tr>\n",
       "    <tr>\n",
       "      <th>1</th>\n",
       "      <td>LATIN AMER. &amp; CARIB</td>\n",
       "      <td>33</td>\n",
       "    </tr>\n",
       "    <tr>\n",
       "      <th>2</th>\n",
       "      <td>WESTERN EUROPE</td>\n",
       "      <td>22</td>\n",
       "    </tr>\n",
       "    <tr>\n",
       "      <th>3</th>\n",
       "      <td>ASIA (EX. NEAR EAST)</td>\n",
       "      <td>21</td>\n",
       "    </tr>\n",
       "    <tr>\n",
       "      <th>4</th>\n",
       "      <td>NEAR EAST</td>\n",
       "      <td>13</td>\n",
       "    </tr>\n",
       "    <tr>\n",
       "      <th>5</th>\n",
       "      <td>C.W. OF IND. STATES</td>\n",
       "      <td>12</td>\n",
       "    </tr>\n",
       "    <tr>\n",
       "      <th>6</th>\n",
       "      <td>OCEANIA</td>\n",
       "      <td>12</td>\n",
       "    </tr>\n",
       "    <tr>\n",
       "      <th>7</th>\n",
       "      <td>EASTERN EUROPE</td>\n",
       "      <td>8</td>\n",
       "    </tr>\n",
       "    <tr>\n",
       "      <th>8</th>\n",
       "      <td>NORTHERN AFRICA</td>\n",
       "      <td>5</td>\n",
       "    </tr>\n",
       "    <tr>\n",
       "      <th>9</th>\n",
       "      <td>BALTICS</td>\n",
       "      <td>3</td>\n",
       "    </tr>\n",
       "    <tr>\n",
       "      <th>10</th>\n",
       "      <td>NORTHERN AMERICA</td>\n",
       "      <td>3</td>\n",
       "    </tr>\n",
       "  </tbody>\n",
       "</table>\n",
       "</div>"
      ],
      "text/plain": [
       "                  region  number of countries\n",
       "0     SUB-SAHARAN AFRICA                   42\n",
       "1    LATIN AMER. & CARIB                   33\n",
       "2         WESTERN EUROPE                   22\n",
       "3   ASIA (EX. NEAR EAST)                   21\n",
       "4              NEAR EAST                   13\n",
       "5    C.W. OF IND. STATES                   12\n",
       "6                OCEANIA                   12\n",
       "7         EASTERN EUROPE                    8\n",
       "8        NORTHERN AFRICA                    5\n",
       "9                BALTICS                    3\n",
       "10      NORTHERN AMERICA                    3"
      ]
     },
     "execution_count": 6,
     "metadata": {},
     "output_type": "execute_result"
    }
   ],
   "source": [
    "#Q1: In our dataset, how many countries are in each region?\n",
    "num_countries = pd.read_sql(\"\"\"\n",
    "SELECT region,\n",
    "COUNT(country)\n",
    "FROM countries\n",
    "GROUP BY region\n",
    "ORDER BY COUNT(country) DESC, region ASC\n",
    "\"\"\", conn)\n",
    "num_countries.columns = [\"region\", \"number of countries\"]\n",
    "num_countries"
   ]
  },
  {
   "cell_type": "code",
   "execution_count": 7,
   "metadata": {},
   "outputs": [
    {
     "data": {
      "text/plain": [
       "[Text(0, 0, 'SUB-SAHARAN AFRICA'),\n",
       " Text(1, 0, 'LATIN AMER. & CARIB'),\n",
       " Text(2, 0, 'WESTERN EUROPE'),\n",
       " Text(3, 0, 'ASIA (EX. NEAR EAST)'),\n",
       " Text(4, 0, 'NEAR EAST'),\n",
       " Text(5, 0, 'C.W. OF IND. STATES'),\n",
       " Text(6, 0, 'OCEANIA'),\n",
       " Text(7, 0, 'EASTERN EUROPE'),\n",
       " Text(8, 0, 'NORTHERN AFRICA'),\n",
       " Text(9, 0, 'BALTICS'),\n",
       " Text(10, 0, 'NORTHERN AMERICA')]"
      ]
     },
     "execution_count": 7,
     "metadata": {},
     "output_type": "execute_result"
    },
    {
     "data": {
      "image/png": "[encoded data removed]",
      "text/plain": [
       "<Figure size 432x288 with 1 Axes>"
      ]
     },
     "metadata": {
      "needs_background": "light"
     },
     "output_type": "display_data"
    }
   ],
   "source": [
    "#Q2: How many countries are in each region? (answer with a plot)\n",
    "region = num_countries[\"region\"]\n",
    "num_countries_per_region = num_countries.plot.bar(legend = None)\n",
    "num_countries_per_region.set_xlabel(\"region\")\n",
    "num_countries_per_region.set_ylabel(\"number of countries\")\n",
    "num_countries_per_region.set_xticklabels(list(region.values))"
   ]
  },
  {
   "cell_type": "code",
   "execution_count": 8,
   "metadata": {},
   "outputs": [
    {
     "data": {
      "text/html": [
       "<div>\n",
       "<style scoped>\n",
       "    .dataframe tbody tr th:only-of-type {\n",
       "        vertical-align: middle;\n",
       "    }\n",
       "\n",
       "    .dataframe tbody tr th {\n",
       "        vertical-align: top;\n",
       "    }\n",
       "\n",
       "    .dataframe thead th {\n",
       "        text-align: right;\n",
       "    }\n",
       "</style>\n",
       "<table border=\"1\" class=\"dataframe\">\n",
       "  <thead>\n",
       "    <tr style=\"text-align: right;\">\n",
       "      <th></th>\n",
       "      <th>region</th>\n",
       "      <th>total area</th>\n",
       "    </tr>\n",
       "  </thead>\n",
       "  <tbody>\n",
       "    <tr>\n",
       "      <th>0</th>\n",
       "      <td>ASIA (EX. NEAR EAST)</td>\n",
       "      <td>22177295</td>\n",
       "    </tr>\n",
       "    <tr>\n",
       "      <th>1</th>\n",
       "      <td>C.W. OF IND. STATES</td>\n",
       "      <td>22100843</td>\n",
       "    </tr>\n",
       "    <tr>\n",
       "      <th>2</th>\n",
       "      <td>LATIN AMER. &amp; CARIB</td>\n",
       "      <td>20426877</td>\n",
       "    </tr>\n",
       "    <tr>\n",
       "      <th>3</th>\n",
       "      <td>NORTHERN AMERICA</td>\n",
       "      <td>19616143</td>\n",
       "    </tr>\n",
       "    <tr>\n",
       "      <th>4</th>\n",
       "      <td>SUB-SAHARAN AFRICA</td>\n",
       "      <td>19446660</td>\n",
       "    </tr>\n",
       "    <tr>\n",
       "      <th>5</th>\n",
       "      <td>OCEANIA</td>\n",
       "      <td>8488612</td>\n",
       "    </tr>\n",
       "    <tr>\n",
       "      <th>6</th>\n",
       "      <td>NORTHERN AFRICA</td>\n",
       "      <td>5752890</td>\n",
       "    </tr>\n",
       "    <tr>\n",
       "      <th>7</th>\n",
       "      <td>NEAR EAST</td>\n",
       "      <td>4340116</td>\n",
       "    </tr>\n",
       "    <tr>\n",
       "      <th>8</th>\n",
       "      <td>WESTERN EUROPE</td>\n",
       "      <td>3707838</td>\n",
       "    </tr>\n",
       "    <tr>\n",
       "      <th>9</th>\n",
       "      <td>EASTERN EUROPE</td>\n",
       "      <td>938554</td>\n",
       "    </tr>\n",
       "    <tr>\n",
       "      <th>10</th>\n",
       "      <td>BALTICS</td>\n",
       "      <td>175015</td>\n",
       "    </tr>\n",
       "  </tbody>\n",
       "</table>\n",
       "</div>"
      ],
      "text/plain": [
       "                  region  total area\n",
       "0   ASIA (EX. NEAR EAST)    22177295\n",
       "1    C.W. OF IND. STATES    22100843\n",
       "2    LATIN AMER. & CARIB    20426877\n",
       "3       NORTHERN AMERICA    19616143\n",
       "4     SUB-SAHARAN AFRICA    19446660\n",
       "5                OCEANIA     8488612\n",
       "6        NORTHERN AFRICA     5752890\n",
       "7              NEAR EAST     4340116\n",
       "8         WESTERN EUROPE     3707838\n",
       "9         EASTERN EUROPE      938554\n",
       "10               BALTICS      175015"
      ]
     },
     "execution_count": 8,
     "metadata": {},
     "output_type": "execute_result"
    }
   ],
   "source": [
    "#Q3: What is the total area of each region?\n",
    "tot_area = pd.read_sql(\"\"\"\n",
    "SELECT region,\n",
    "SUM(area)\n",
    "FROM countries\n",
    "GROUP BY region\n",
    "ORDER BY SUM(area) DESC\n",
    "\"\"\", conn)\n",
    "tot_area.columns = [\"region\", \"total area\"]\n",
    "tot_area"
   ]
  },
  {
   "cell_type": "code",
   "execution_count": 9,
   "metadata": {},
   "outputs": [
    {
     "data": {
      "text/plain": [
       "[Text(0, 0, 'SUB-SAHARAN AFRICA'),\n",
       " Text(1, 0, 'LATIN AMER. & CARIB'),\n",
       " Text(2, 0, 'WESTERN EUROPE'),\n",
       " Text(3, 0, 'ASIA (EX. NEAR EAST)'),\n",
       " Text(4, 0, 'NEAR EAST'),\n",
       " Text(5, 0, 'C.W. OF IND. STATES'),\n",
       " Text(6, 0, 'OCEANIA'),\n",
       " Text(7, 0, 'EASTERN EUROPE'),\n",
       " Text(8, 0, 'NORTHERN AFRICA'),\n",
       " Text(9, 0, 'BALTICS'),\n",
       " Text(10, 0, 'NORTHERN AMERICA')]"
      ]
     },
     "execution_count": 9,
     "metadata": {},
     "output_type": "execute_result"
    },
    {
     "data": {
      "image/png": "[encoded data removed]",
      "text/plain": [
       "<Figure size 432x288 with 1 Axes>"
      ]
     },
     "metadata": {
      "needs_background": "light"
     },
     "output_type": "display_data"
    }
   ],
   "source": [
    "#Q4: What is the total area of each region? (answer with a plot)\n",
    "s = num_countries[\"region\"]\n",
    "tot_area_plot = tot_area.plot.bar(legend = None)\n",
    "tot_area_plot.set_xlabel(\"region\")\n",
    "tot_area_plot.set_ylabel(\"total area\")\n",
    "tot_area_plot.set_xticklabels(list(s.values))"
   ]
  },
  {
   "cell_type": "code",
   "execution_count": 10,
   "metadata": {},
   "outputs": [
    {
     "data": {
      "text/html": [
       "<div>\n",
       "<style scoped>\n",
       "    .dataframe tbody tr th:only-of-type {\n",
       "        vertical-align: middle;\n",
       "    }\n",
       "\n",
       "    .dataframe tbody tr th {\n",
       "        vertical-align: top;\n",
       "    }\n",
       "\n",
       "    .dataframe thead th {\n",
       "        text-align: right;\n",
       "    }\n",
       "</style>\n",
       "<table border=\"1\" class=\"dataframe\">\n",
       "  <thead>\n",
       "    <tr style=\"text-align: right;\">\n",
       "      <th></th>\n",
       "      <th>country</th>\n",
       "      <th>area</th>\n",
       "    </tr>\n",
       "  </thead>\n",
       "  <tbody>\n",
       "    <tr>\n",
       "      <th>0</th>\n",
       "      <td>Saudi Arabia</td>\n",
       "      <td>1960582</td>\n",
       "    </tr>\n",
       "    <tr>\n",
       "      <th>1</th>\n",
       "      <td>Turkey</td>\n",
       "      <td>780580</td>\n",
       "    </tr>\n",
       "    <tr>\n",
       "      <th>2</th>\n",
       "      <td>Yemen</td>\n",
       "      <td>527970</td>\n",
       "    </tr>\n",
       "    <tr>\n",
       "      <th>3</th>\n",
       "      <td>Iraq</td>\n",
       "      <td>437072</td>\n",
       "    </tr>\n",
       "    <tr>\n",
       "      <th>4</th>\n",
       "      <td>Oman</td>\n",
       "      <td>212460</td>\n",
       "    </tr>\n",
       "    <tr>\n",
       "      <th>5</th>\n",
       "      <td>Syria</td>\n",
       "      <td>185180</td>\n",
       "    </tr>\n",
       "    <tr>\n",
       "      <th>6</th>\n",
       "      <td>Jordan</td>\n",
       "      <td>92300</td>\n",
       "    </tr>\n",
       "    <tr>\n",
       "      <th>7</th>\n",
       "      <td>United Arab Emirates</td>\n",
       "      <td>82880</td>\n",
       "    </tr>\n",
       "    <tr>\n",
       "      <th>8</th>\n",
       "      <td>Israel</td>\n",
       "      <td>20770</td>\n",
       "    </tr>\n",
       "    <tr>\n",
       "      <th>9</th>\n",
       "      <td>Kuwait</td>\n",
       "      <td>17820</td>\n",
       "    </tr>\n",
       "    <tr>\n",
       "      <th>10</th>\n",
       "      <td>Qatar</td>\n",
       "      <td>11437</td>\n",
       "    </tr>\n",
       "    <tr>\n",
       "      <th>11</th>\n",
       "      <td>Lebanon</td>\n",
       "      <td>10400</td>\n",
       "    </tr>\n",
       "    <tr>\n",
       "      <th>12</th>\n",
       "      <td>Bahrain</td>\n",
       "      <td>665</td>\n",
       "    </tr>\n",
       "  </tbody>\n",
       "</table>\n",
       "</div>"
      ],
      "text/plain": [
       "                 country     area\n",
       "0           Saudi Arabia  1960582\n",
       "1                 Turkey   780580\n",
       "2                  Yemen   527970\n",
       "3                   Iraq   437072\n",
       "4                   Oman   212460\n",
       "5                  Syria   185180\n",
       "6                 Jordan    92300\n",
       "7   United Arab Emirates    82880\n",
       "8                 Israel    20770\n",
       "9                 Kuwait    17820\n",
       "10                 Qatar    11437\n",
       "11               Lebanon    10400\n",
       "12               Bahrain      665"
      ]
     },
     "execution_count": 10,
     "metadata": {},
     "output_type": "execute_result"
    }
   ],
   "source": [
    "#Q5: What is the area of each country in the Near East region?\n",
    "near_east_area = pd.read_sql(\"\"\"\n",
    "SELECT country,\n",
    "SUM(area)\n",
    "FROM countries\n",
    "WHERE region = \"NEAR EAST\"\n",
    "GROUP BY country\n",
    "ORDER BY area DESC\n",
    "\"\"\", conn)\n",
    "near_east_area.columns = [\"country\", \"area\"]\n",
    "near_east_area"
   ]
  },
  {
   "cell_type": "code",
   "execution_count": 11,
   "metadata": {},
   "outputs": [
    {
     "data": {
      "text/html": [
       "<div>\n",
       "<style scoped>\n",
       "    .dataframe tbody tr th:only-of-type {\n",
       "        vertical-align: middle;\n",
       "    }\n",
       "\n",
       "    .dataframe tbody tr th {\n",
       "        vertical-align: top;\n",
       "    }\n",
       "\n",
       "    .dataframe thead th {\n",
       "        text-align: right;\n",
       "    }\n",
       "</style>\n",
       "<table border=\"1\" class=\"dataframe\">\n",
       "  <thead>\n",
       "    <tr style=\"text-align: right;\">\n",
       "      <th></th>\n",
       "      <th>country</th>\n",
       "      <th>Real GDP(billion)</th>\n",
       "    </tr>\n",
       "  </thead>\n",
       "  <tbody>\n",
       "    <tr>\n",
       "      <th>0</th>\n",
       "      <td>United States</td>\n",
       "      <td>11281.191327</td>\n",
       "    </tr>\n",
       "    <tr>\n",
       "      <th>1</th>\n",
       "      <td>China</td>\n",
       "      <td>6569.868565</td>\n",
       "    </tr>\n",
       "    <tr>\n",
       "      <th>2</th>\n",
       "      <td>Japan</td>\n",
       "      <td>3594.473830</td>\n",
       "    </tr>\n",
       "    <tr>\n",
       "      <th>3</th>\n",
       "      <td>India</td>\n",
       "      <td>3176.520785</td>\n",
       "    </tr>\n",
       "    <tr>\n",
       "      <th>4</th>\n",
       "      <td>Germany</td>\n",
       "      <td>2274.855452</td>\n",
       "    </tr>\n",
       "    <tr>\n",
       "      <th>5</th>\n",
       "      <td>France</td>\n",
       "      <td>1680.181354</td>\n",
       "    </tr>\n",
       "    <tr>\n",
       "      <th>6</th>\n",
       "      <td>United Kingdom</td>\n",
       "      <td>1678.873538</td>\n",
       "    </tr>\n",
       "    <tr>\n",
       "      <th>7</th>\n",
       "      <td>Italy</td>\n",
       "      <td>1552.164690</td>\n",
       "    </tr>\n",
       "    <tr>\n",
       "      <th>8</th>\n",
       "      <td>Brazil</td>\n",
       "      <td>1429.394525</td>\n",
       "    </tr>\n",
       "    <tr>\n",
       "      <th>9</th>\n",
       "      <td>Russia</td>\n",
       "      <td>1271.752506</td>\n",
       "    </tr>\n",
       "    <tr>\n",
       "      <th>10</th>\n",
       "      <td>Canada</td>\n",
       "      <td>986.348174</td>\n",
       "    </tr>\n",
       "    <tr>\n",
       "      <th>11</th>\n",
       "      <td>Mexico</td>\n",
       "      <td>967.045725</td>\n",
       "    </tr>\n",
       "    <tr>\n",
       "      <th>12</th>\n",
       "      <td>other</td>\n",
       "      <td>14742.064758</td>\n",
       "    </tr>\n",
       "  </tbody>\n",
       "</table>\n",
       "</div>"
      ],
      "text/plain": [
       "           country  Real GDP(billion)\n",
       "0    United States       11281.191327\n",
       "1            China        6569.868565\n",
       "2            Japan        3594.473830\n",
       "3            India        3176.520785\n",
       "4          Germany        2274.855452\n",
       "5           France        1680.181354\n",
       "6   United Kingdom        1678.873538\n",
       "7            Italy        1552.164690\n",
       "8           Brazil        1429.394525\n",
       "9           Russia        1271.752506\n",
       "10          Canada         986.348174\n",
       "11          Mexico         967.045725\n",
       "12           other       14742.064758"
      ]
     },
     "execution_count": 11,
     "metadata": {},
     "output_type": "execute_result"
    }
   ],
   "source": [
    "#Q6: What are the top 12 countries that have the largest real GDP?\n",
    "lgst_real_gdp = pd.read_sql(\"\"\"\n",
    "SELECT country,\n",
    "(population * `gdp-per-capita`) / 1000000000.0 AS `Real GDP(billion)`\n",
    "FROM countries\n",
    "GROUP BY country\n",
    "ORDER BY `Real GDP(billion)` DESC\n",
    "\"\"\", conn)\n",
    "lgst_real_gdp.columns = [\"country\", \"Real GDP(billion)\"]\n",
    "top_12 = lgst_real_gdp[:12].copy()\n",
    "other = lgst_real_gdp[12:][\"Real GDP(billion)\"].sum()\n",
    "top_12.loc[12,:] = (\"other\", other)\n",
    "top_12"
   ]
  },
  {
   "cell_type": "code",
   "execution_count": 12,
   "metadata": {},
   "outputs": [
    {
     "data": {
      "text/plain": [
       "[Text(0, 0, 'United States'),\n",
       " Text(1, 0, 'China'),\n",
       " Text(2, 0, 'Japan'),\n",
       " Text(3, 0, 'India'),\n",
       " Text(4, 0, 'Germany'),\n",
       " Text(5, 0, 'France'),\n",
       " Text(6, 0, 'United Kingdom'),\n",
       " Text(7, 0, 'Italy'),\n",
       " Text(8, 0, 'Brazil'),\n",
       " Text(9, 0, 'Russia'),\n",
       " Text(10, 0, 'Canada'),\n",
       " Text(11, 0, 'Mexico'),\n",
       " Text(12, 0, 'other')]"
      ]
     },
     "execution_count": 12,
     "metadata": {},
     "output_type": "execute_result"
    },
    {
     "data": {
      "image/png": "[encoded data removed]",
      "text/plain": [
       "<Figure size 432x288 with 1 Axes>"
      ]
     },
     "metadata": {
      "needs_background": "light"
     },
     "output_type": "display_data"
    }
   ],
   "source": [
    "#Q7: What are the top 12 countries that have the largest real GDP? (answer with a plot)\n",
    "country1 = top_12[\"country\"]\n",
    "top_12_plot = top_12.plot.bar(legend = None)\n",
    "top_12_plot.set_xlabel(\"country\")\n",
    "top_12_plot.set_ylabel(\"real GDP(billion)\")\n",
    "top_12_plot.set_xticklabels(list(country1.values))"
   ]
  },
  {
   "cell_type": "code",
   "execution_count": 13,
   "metadata": {},
   "outputs": [
    {
     "data": {
      "text/plain": [
       "<AxesSubplot:xlabel='gdp-per-capita', ylabel='literacy'>"
      ]
     },
     "execution_count": 13,
     "metadata": {},
     "output_type": "execute_result"
    },
    {
     "data": {
      "image/png": "[encoded data removed]",
      "text/plain": [
       "<Figure size 432x288 with 1 Axes>"
      ]
     },
     "metadata": {
      "needs_background": "light"
     },
     "output_type": "display_data"
    }
   ],
   "source": [
    "#Q8: What is the relationship between GDP per capita and literacy?\n",
    "gdp_vs_literacy = pd.read_sql(\"\"\"\n",
    "SELECT `gdp-per-capita`, `literacy`\n",
    "FROM countries\n",
    "\"\"\", conn)\n",
    "gdp_vs_literacy.columns = [\"gdp-per-capita\", \"literacy\"]\n",
    "def convert(x):\n",
    "    return float(x.replace(\",\",\".\"))\n",
    "gdp_vs_literacy[\"literacy\"] = gdp_vs_literacy[\"literacy\"].apply(convert)\n",
    "gdp_vs_literacy.plot.scatter(x = \"gdp-per-capita\", y = \"literacy\")"
   ]
  },
  {
   "cell_type": "code",
   "execution_count": 14,
   "metadata": {},
   "outputs": [
    {
     "data": {
      "text/plain": [
       "0.5154347345101354"
      ]
     },
     "execution_count": 14,
     "metadata": {},
     "output_type": "execute_result"
    }
   ],
   "source": [
    "#Q9: What is the correlation between GDP per capita and literacy?\n",
    "gdp_vs_literacy.corr().iloc[0][1]"
   ]
  },
  {
   "cell_type": "code",
   "execution_count": 15,
   "metadata": {},
   "outputs": [
    {
     "data": {
      "text/plain": [
       "<AxesSubplot:xlabel='gdp-per-capita', ylabel='phones'>"
      ]
     },
     "execution_count": 15,
     "metadata": {},
     "output_type": "execute_result"
    },
    {
     "data": {
      "image/png": "[encoded data removed]",
      "text/plain": [
       "<Figure size 432x288 with 1 Axes>"
      ]
     },
     "metadata": {
      "needs_background": "light"
     },
     "output_type": "display_data"
    }
   ],
   "source": [
    "#Q10: What is the relationship between GDP per capita and phones?\n",
    "gdp_vs_phones = pd.read_sql(\"\"\"\n",
    "SELECT `gdp-per-capita`, `phones`\n",
    "FROM countries\n",
    "\"\"\", conn)\n",
    "gdp_vs_phones.columns = [\"gdp-per-capita\", \"phones\"]\n",
    "def convert1(x):\n",
    "    return float(x.replace(\",\",\".\"))\n",
    "gdp_vs_phones[\"phones\"] = gdp_vs_phones[\"phones\"].apply(convert1)\n",
    "gdp_vs_phones.plot.scatter(x = \"gdp-per-capita\", y = \"phones\")"
   ]
  },
  {
   "cell_type": "code",
   "execution_count": 16,
   "metadata": {},
   "outputs": [
    {
     "data": {
      "text/plain": [
       "<AxesSubplot:xlabel='gdp-per-capita', ylabel='infant-mortality'>"
      ]
     },
     "execution_count": 16,
     "metadata": {},
     "output_type": "execute_result"
    },
    {
     "data": {
      "image/png": "[encoded data removed]",
      "text/plain": [
       "<Figure size 432x288 with 1 Axes>"
      ]
     },
     "metadata": {
      "needs_background": "light"
     },
     "output_type": "display_data"
    }
   ],
   "source": [
    "#Q11: What is the relationship between GDP per capita and infant-mortality?\n",
    "gdp_vs_infant_mortality = pd.read_sql(\"\"\"\n",
    "SELECT `gdp-per-capita`, `infant-mortality`\n",
    "FROM countries\n",
    "\"\"\", conn)\n",
    "gdp_vs_infant_mortality.columns = [\"gdp-per-capita\", \"infant-mortality\"]\n",
    "gdp_vs_infant_mortality.plot.scatter(x = \"gdp-per-capita\", y = \"infant-mortality\")\n"
   ]
  },
  {
   "cell_type": "code",
   "execution_count": 17,
   "metadata": {},
   "outputs": [
    {
     "data": {
      "text/plain": [
       "<AxesSubplot:xlabel='gdp-per-capita', ylabel='inverse'>"
      ]
     },
     "execution_count": 17,
     "metadata": {},
     "output_type": "execute_result"
    },
    {
     "data": {
      "image/png": "[encoded data removed]",
      "text/plain": [
       "<Figure size 432x288 with 1 Axes>"
      ]
     },
     "metadata": {
      "needs_background": "light"
     },
     "output_type": "display_data"
    }
   ],
   "source": [
    "#Q12: What is the relationship between GDP per capita and inverse of infant-mortality?\n",
    "gdp_vs_infant_mortality[\"inverse\"] = 1 / gdp_vs_infant_mortality[\"infant-mortality\"]\n",
    "gdp_vs_infant_mortality.plot.scatter(x = \"gdp-per-capita\", y = \"inverse\")"
   ]
  },
  {
   "cell_type": "code",
   "execution_count": 18,
   "metadata": {},
   "outputs": [
    {
     "data": {
      "text/plain": [
       "(0.01808887883603978, 37.95908987837674)"
      ]
     },
     "execution_count": 18,
     "metadata": {},
     "output_type": "execute_result"
    }
   ],
   "source": [
    "#Q13: fit a y = m * x + n line to the scatter plot in question 10 using the least-squares method; what are the coefficients m and n?\n",
    "gdp_vs_phones[\"1\"] = 1\n",
    "\n",
    "res = np.linalg.lstsq(gdp_vs_phones[[\"gdp-per-capita\", \"1\"]], gdp_vs_phones[\"phones\"], rcond=None)\n",
    "\n",
    "# res is a tuple: (COEFFICIENTS, VALUE, VALUE, VALUE)\n",
    "coefficients = res[0] # coefficients is (m,n:\n",
    "m = coefficients[0] # slope\n",
    "n = coefficients[1] # intercept\n",
    "m, n"
   ]
  },
  {
   "cell_type": "code",
   "execution_count": 19,
   "metadata": {},
   "outputs": [
    {
     "data": {
      "text/plain": [
       "580.6254549595701"
      ]
     },
     "execution_count": 19,
     "metadata": {},
     "output_type": "execute_result"
    }
   ],
   "source": [
    "#Q14: When gdp-per-capita = 30000, what is the expected value for phones according to the regression model between them?\n",
    "value = (30000 * m) + n\n",
    "value"
   ]
  },
  {
   "cell_type": "code",
   "execution_count": 20,
   "metadata": {},
   "outputs": [
    {
     "data": {
      "text/plain": [
       "<AxesSubplot:xlabel='gdp-per-capita', ylabel='phones'>"
      ]
     },
     "execution_count": 20,
     "metadata": {},
     "output_type": "execute_result"
    },
    {
     "data": {
      "image/png": "[encoded data removed]",
      "text/plain": [
       "<Figure size 432x288 with 1 Axes>"
      ]
     },
     "metadata": {
      "needs_background": "light"
     },
     "output_type": "display_data"
    }
   ],
   "source": [
    "#Q15: plot the regression line to the scatter plot\n",
    "ax = gdp_vs_phones.plot.scatter(x='gdp-per-capita', y='phones')\n",
    "\n",
    "gdp_vs_phones[\"fit\"] = gdp_vs_phones[\"gdp-per-capita\"] * m + n\n",
    "gdp_vs_phones.plot.line(x='gdp-per-capita', y='fit', c='red', ax=ax)"
   ]
  },
  {
   "cell_type": "code",
   "execution_count": 21,
   "metadata": {},
   "outputs": [
    {
     "data": {
      "text/html": [
       "<div>\n",
       "<style scoped>\n",
       "    .dataframe tbody tr th:only-of-type {\n",
       "        vertical-align: middle;\n",
       "    }\n",
       "\n",
       "    .dataframe tbody tr th {\n",
       "        vertical-align: top;\n",
       "    }\n",
       "\n",
       "    .dataframe thead th {\n",
       "        text-align: right;\n",
       "    }\n",
       "</style>\n",
       "<table border=\"1\" class=\"dataframe\">\n",
       "  <thead>\n",
       "    <tr style=\"text-align: right;\">\n",
       "      <th></th>\n",
       "      <th>country</th>\n",
       "      <th>birth-rate</th>\n",
       "      <th>death-rate</th>\n",
       "    </tr>\n",
       "  </thead>\n",
       "  <tbody>\n",
       "    <tr>\n",
       "      <th>0</th>\n",
       "      <td>Botswana</td>\n",
       "      <td>23.08</td>\n",
       "      <td>29.50</td>\n",
       "    </tr>\n",
       "    <tr>\n",
       "      <th>1</th>\n",
       "      <td>Ukraine</td>\n",
       "      <td>8.82</td>\n",
       "      <td>14.39</td>\n",
       "    </tr>\n",
       "    <tr>\n",
       "      <th>2</th>\n",
       "      <td>Russia</td>\n",
       "      <td>9.95</td>\n",
       "      <td>14.65</td>\n",
       "    </tr>\n",
       "    <tr>\n",
       "      <th>3</th>\n",
       "      <td>Bulgaria</td>\n",
       "      <td>9.65</td>\n",
       "      <td>14.27</td>\n",
       "    </tr>\n",
       "    <tr>\n",
       "      <th>4</th>\n",
       "      <td>Latvia</td>\n",
       "      <td>9.24</td>\n",
       "      <td>13.66</td>\n",
       "    </tr>\n",
       "    <tr>\n",
       "      <th>5</th>\n",
       "      <td>Lesotho</td>\n",
       "      <td>24.75</td>\n",
       "      <td>28.71</td>\n",
       "    </tr>\n",
       "    <tr>\n",
       "      <th>6</th>\n",
       "      <td>South Africa</td>\n",
       "      <td>18.20</td>\n",
       "      <td>22.00</td>\n",
       "    </tr>\n",
       "    <tr>\n",
       "      <th>7</th>\n",
       "      <td>Monaco</td>\n",
       "      <td>9.19</td>\n",
       "      <td>12.91</td>\n",
       "    </tr>\n",
       "    <tr>\n",
       "      <th>8</th>\n",
       "      <td>Hungary</td>\n",
       "      <td>9.72</td>\n",
       "      <td>13.11</td>\n",
       "    </tr>\n",
       "    <tr>\n",
       "      <th>9</th>\n",
       "      <td>Estonia</td>\n",
       "      <td>10.04</td>\n",
       "      <td>13.25</td>\n",
       "    </tr>\n",
       "    <tr>\n",
       "      <th>10</th>\n",
       "      <td>Belarus</td>\n",
       "      <td>11.16</td>\n",
       "      <td>14.02</td>\n",
       "    </tr>\n",
       "    <tr>\n",
       "      <th>11</th>\n",
       "      <td>Germany</td>\n",
       "      <td>8.25</td>\n",
       "      <td>10.62</td>\n",
       "    </tr>\n",
       "    <tr>\n",
       "      <th>12</th>\n",
       "      <td>Swaziland</td>\n",
       "      <td>27.41</td>\n",
       "      <td>29.74</td>\n",
       "    </tr>\n",
       "    <tr>\n",
       "      <th>13</th>\n",
       "      <td>Lithuania</td>\n",
       "      <td>8.75</td>\n",
       "      <td>10.98</td>\n",
       "    </tr>\n",
       "    <tr>\n",
       "      <th>14</th>\n",
       "      <td>Croatia</td>\n",
       "      <td>9.61</td>\n",
       "      <td>11.48</td>\n",
       "    </tr>\n",
       "  </tbody>\n",
       "</table>\n",
       "</div>"
      ],
      "text/plain": [
       "         country  birth-rate  death-rate\n",
       "0       Botswana       23.08       29.50\n",
       "1        Ukraine        8.82       14.39\n",
       "2         Russia        9.95       14.65\n",
       "3       Bulgaria        9.65       14.27\n",
       "4         Latvia        9.24       13.66\n",
       "5        Lesotho       24.75       28.71\n",
       "6   South Africa       18.20       22.00\n",
       "7         Monaco        9.19       12.91\n",
       "8        Hungary        9.72       13.11\n",
       "9        Estonia       10.04       13.25\n",
       "10       Belarus       11.16       14.02\n",
       "11       Germany        8.25       10.62\n",
       "12     Swaziland       27.41       29.74\n",
       "13     Lithuania        8.75       10.98\n",
       "14       Croatia        9.61       11.48"
      ]
     },
     "execution_count": 21,
     "metadata": {},
     "output_type": "execute_result"
    }
   ],
   "source": [
    "#Q16: What are the top 15 countries that have the smallest gap between birth rate and death rate?\n",
    "smallest_gap = pd.read_sql(\"\"\"\n",
    "SELECT country, `birth-rate`, `death-rate`\n",
    "FROM countries\n",
    "ORDER BY (`birth-rate` - `death-rate`)\n",
    "\"\"\", conn)\n",
    "smallest_gap.columns = [\"country\", \"birth-rate\", \"death-rate\"]\n",
    "top_15 = smallest_gap[:15]\n",
    "top_15"
   ]
  },
  {
   "cell_type": "code",
   "execution_count": 22,
   "metadata": {},
   "outputs": [
    {
     "data": {
      "text/plain": [
       "[Text(0, 0, 'Botswana'),\n",
       " Text(0, 1, 'Ukraine'),\n",
       " Text(0, 2, 'Russia'),\n",
       " Text(0, 3, 'Bulgaria'),\n",
       " Text(0, 4, 'Latvia'),\n",
       " Text(0, 5, 'Lesotho'),\n",
       " Text(0, 6, 'South Africa'),\n",
       " Text(0, 7, 'Monaco'),\n",
       " Text(0, 8, 'Hungary'),\n",
       " Text(0, 9, 'Estonia'),\n",
       " Text(0, 10, 'Belarus'),\n",
       " Text(0, 11, 'Germany'),\n",
       " Text(0, 12, 'Swaziland'),\n",
       " Text(0, 13, 'Lithuania'),\n",
       " Text(0, 14, 'Croatia')]"
      ]
     },
     "execution_count": 22,
     "metadata": {},
     "output_type": "execute_result"
    },
    {
     "data": {
      "image/png": "[encoded data removed]",
      "text/plain": [
       "<Figure size 432x288 with 1 Axes>"
      ]
     },
     "metadata": {
      "needs_background": "light"
     },
     "output_type": "display_data"
    }
   ],
   "source": [
    "#Q17: What are the top 15 countries that have the smallest gap between birth rate and death rate? (answer with a plot)\n",
    "country2 = top_15[\"country\"]\n",
    "top_15_plot = top_15.plot.barh()\n",
    "top_15_plot.set_ylabel(\"country\")\n",
    "top_15_plot.set_xticks([0, 10, 20, 30, 40])\n",
    "top_15_plot.set_yticklabels(list(country2.values))"
   ]
  },
  {
   "cell_type": "code",
   "execution_count": 23,
   "metadata": {},
   "outputs": [
    {
     "data": {
      "text/plain": [
       "<AxesSubplot:xlabel='population', ylabel='gdp-per-capita'>"
      ]
     },
     "execution_count": 23,
     "metadata": {},
     "output_type": "execute_result"
    },
    {
     "data": {
      "image/png": "[encoded data removed]",
      "text/plain": [
       "<Figure size 432x288 with 1 Axes>"
      ]
     },
     "metadata": {
      "needs_background": "light"
     },
     "output_type": "display_data"
    }
   ],
   "source": [
    "#Q18: What is the relationship between population and gdp-per-capita? (answer with a plot)\n",
    "pop_vs_gdp = pd.read_sql(\"\"\"\n",
    "SELECT `population`, `gdp-per-capita`\n",
    "FROM countries\n",
    "\"\"\", conn)\n",
    "pop_vs_gdp.columns = [\"population\", \"gdp-per-capita\"]\n",
    "pop_vs_gdp.plot.scatter(x = \"population\", y = \"gdp-per-capita\")"
   ]
  },
  {
   "cell_type": "code",
   "execution_count": 24,
   "metadata": {},
   "outputs": [
    {
     "data": {
      "text/html": [
       "<div>\n",
       "<style scoped>\n",
       "    .dataframe tbody tr th:only-of-type {\n",
       "        vertical-align: middle;\n",
       "    }\n",
       "\n",
       "    .dataframe tbody tr th {\n",
       "        vertical-align: top;\n",
       "    }\n",
       "\n",
       "    .dataframe thead th {\n",
       "        text-align: right;\n",
       "    }\n",
       "</style>\n",
       "<table border=\"1\" class=\"dataframe\">\n",
       "  <thead>\n",
       "    <tr style=\"text-align: right;\">\n",
       "      <th></th>\n",
       "      <th>country</th>\n",
       "      <th>population</th>\n",
       "      <th>gdp-per-capita</th>\n",
       "    </tr>\n",
       "  </thead>\n",
       "  <tbody>\n",
       "    <tr>\n",
       "      <th>0</th>\n",
       "      <td>India</td>\n",
       "      <td>1095351995</td>\n",
       "      <td>2900</td>\n",
       "    </tr>\n",
       "    <tr>\n",
       "      <th>1</th>\n",
       "      <td>China</td>\n",
       "      <td>1313973713</td>\n",
       "      <td>5000</td>\n",
       "    </tr>\n",
       "    <tr>\n",
       "      <th>2</th>\n",
       "      <td>United States</td>\n",
       "      <td>298444215</td>\n",
       "      <td>37800</td>\n",
       "    </tr>\n",
       "    <tr>\n",
       "      <th>3</th>\n",
       "      <td>Luxembourg</td>\n",
       "      <td>474413</td>\n",
       "      <td>55100</td>\n",
       "    </tr>\n",
       "  </tbody>\n",
       "</table>\n",
       "</div>"
      ],
      "text/plain": [
       "         country  population  gdp-per-capita\n",
       "0          India  1095351995            2900\n",
       "1          China  1313973713            5000\n",
       "2  United States   298444215           37800\n",
       "3     Luxembourg      474413           55100"
      ]
     },
     "execution_count": 24,
     "metadata": {},
     "output_type": "execute_result"
    }
   ],
   "source": [
    "#Q19: Did you notice the four outliers? Which countries are they?\n",
    "country = Series([\"India\", \"China\", \"United States\", \"Luxembourg\"])\n",
    "pop = Series([1095351995, 1313973713, 298444215, 474413])\n",
    "gdp_per_capita = Series([2900, 5000, 37800, 55100])\n",
    "DataFrame({\n",
    "    \"country\": country,\n",
    "    \"population\": pop,\n",
    "    \"gdp-per-capita\": gdp_per_capita\n",
    "})"
   ]
  },
  {
   "cell_type": "code",
   "execution_count": 25,
   "metadata": {},
   "outputs": [
    {
     "data": {
      "text/plain": [
       "Text(0.5, 1.0, 'GDP Breakdown')"
      ]
     },
     "execution_count": 25,
     "metadata": {},
     "output_type": "execute_result"
    },
    {
     "data": {
      "image/png": "[encoded data removed]",
      "text/plain": [
       "<Figure size 432x288 with 1 Axes>"
      ]
     },
     "metadata": {},
     "output_type": "display_data"
    }
   ],
   "source": [
    "#Q20: what are the top 12 countries that have the largest real GDP? (answer with a plot)\n",
    "top_12_no_other = lgst_real_gdp[:12]\n",
    "labels = top_12_no_other[\"country\"].to_list()\n",
    "top_12_no_other.plot.pie(y= \"Real GDP(billion)\", labels = labels, legend = None)\n",
    "plt.ylabel('')\n",
    "plt.title(\"GDP Breakdown\")"
   ]
  }
 ],
 "metadata": {
  "kernelspec": {
   "display_name": "Python 3",
   "language": "python",
   "name": "python3"
  },
  "language_info": {
   "codemirror_mode": {
    "name": "ipython",
    "version": 3
   },
   "file_extension": ".py",
   "mimetype": "text/x-python",
   "name": "python",
   "nbconvert_exporter": "python",
   "pygments_lexer": "ipython3",
   "version": "3.8.5"
  }
 },
 "nbformat": 4,
 "nbformat_minor": 4
}
